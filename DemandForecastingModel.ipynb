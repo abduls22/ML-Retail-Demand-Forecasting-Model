{
 "cells": [
  {
   "cell_type": "code",
   "execution_count": 11,
   "id": "7431f13e-de75-4b6c-8815-3907a65f5ef6",
   "metadata": {},
   "outputs": [],
   "source": [
    "import pandas as pd\n",
    "import numpy as np\n",
    "from sklearn.model_selection import train_test_split\n",
    "from sklearn.ensemble import RandomForestRegressor\n",
    "from sklearn.metrics import mean_absolute_error\n",
    "from sklearn.model_selection import GridSearchCV\n",
    "from sklearn.model_selection import RandomizedSearchCV\n",
    "from scipy.stats import randint\n",
    "from sklearn.preprocessing import OneHotEncoder\n",
    "\n",
    "# Loading the data\n",
    "data = pd.read_csv('train_0irEZ2H.csv')"
   ]
  },
  {
   "cell_type": "code",
   "execution_count": 2,
   "id": "e3a38f85-b4af-4d4e-b0e7-479c12861727",
   "metadata": {},
   "outputs": [],
   "source": [
    "# Preprocessing the data\n",
    "data['week'] = pd.to_datetime(data['week'], format='%d/%m/%y')\n",
    "data['week_of_year'] = data['week'].dt.isocalendar().week\n",
    "data['year'] = data['week'].dt.year\n",
    "data['store_id'] = data['store_id'].astype('category')\n",
    "data['sku_id'] = data['sku_id'].astype('category')"
   ]
  },
  {
   "cell_type": "code",
   "execution_count": 3,
   "id": "f7715dbe-b30f-4348-ac3d-c279be072257",
   "metadata": {},
   "outputs": [
    {
     "name": "stderr",
     "output_type": "stream",
     "text": [
      "/var/folders/5l/2gnczxp96f9g3pt6976gdwz80000gn/T/ipykernel_5847/1719889412.py:6: FutureWarning: The default of observed=False is deprecated and will be changed to True in a future version of pandas. Pass observed=False to retain current behavior or observed=True to adopt the future default and silence this warning.\n",
      "  data['units_sold_lag1'] = data.groupby(['store_id', 'sku_id'])['units_sold'].shift(1)\n",
      "/var/folders/5l/2gnczxp96f9g3pt6976gdwz80000gn/T/ipykernel_5847/1719889412.py:7: FutureWarning: The default of observed=False is deprecated and will be changed to True in a future version of pandas. Pass observed=False to retain current behavior or observed=True to adopt the future default and silence this warning.\n",
      "  data['units_sold_lag2'] = data.groupby(['store_id', 'sku_id'])['units_sold'].shift(2)\n",
      "/var/folders/5l/2gnczxp96f9g3pt6976gdwz80000gn/T/ipykernel_5847/1719889412.py:8: FutureWarning: The default of observed=False is deprecated and will be changed to True in a future version of pandas. Pass observed=False to retain current behavior or observed=True to adopt the future default and silence this warning.\n",
      "  data['units_sold_lag3'] = data.groupby(['store_id', 'sku_id'])['units_sold'].shift(3)\n",
      "/var/folders/5l/2gnczxp96f9g3pt6976gdwz80000gn/T/ipykernel_5847/1719889412.py:9: FutureWarning: The default of observed=False is deprecated and will be changed to True in a future version of pandas. Pass observed=False to retain current behavior or observed=True to adopt the future default and silence this warning.\n",
      "  data['units_sold_lag4'] = data.groupby(['store_id', 'sku_id'])['units_sold'].shift(4)\n",
      "/var/folders/5l/2gnczxp96f9g3pt6976gdwz80000gn/T/ipykernel_5847/1719889412.py:13: FutureWarning: The default of observed=False is deprecated and will be changed to True in a future version of pandas. Pass observed=False to retain current behavior or observed=True to adopt the future default and silence this warning.\n",
      "  data.groupby(['store_id', 'sku_id'])['units_sold']\n"
     ]
    }
   ],
   "source": [
    "# Feature Engineering\n",
    "data['discount'] = data['base_price'] - data['total_price']\n",
    "data['discount_pct'] = data['discount'] / data['base_price']\n",
    "\n",
    "# Creating lag features (sales over past 4 weeks)\n",
    "data['units_sold_lag1'] = data.groupby(['store_id', 'sku_id'])['units_sold'].shift(1)\n",
    "data['units_sold_lag2'] = data.groupby(['store_id', 'sku_id'])['units_sold'].shift(2)\n",
    "data['units_sold_lag3'] = data.groupby(['store_id', 'sku_id'])['units_sold'].shift(3)\n",
    "data['units_sold_lag4'] = data.groupby(['store_id', 'sku_id'])['units_sold'].shift(4)\n",
    "\n",
    "# Moving averages\n",
    "data['ma_units_sold_3'] = (\n",
    "    data.groupby(['store_id', 'sku_id'])['units_sold']\n",
    "    .rolling(window=3)\n",
    "    .mean()\n",
    "    .shift(1)\n",
    "    .reset_index(level=[0, 1], drop=True)\n",
    ")\n",
    "\n",
    "data = data.dropna()"
   ]
  },
  {
   "cell_type": "code",
   "execution_count": 4,
   "id": "b763ecc6-67d1-4c90-8376-545b0fb9b670",
   "metadata": {},
   "outputs": [],
   "source": [
    "# Selecting features and target\n",
    "features = ['week_of_year', 'year', 'store_id', 'sku_id', 'total_price', 'base_price', \n",
    "            'is_featured_sku', 'is_display_sku', 'discount', 'discount_pct',\n",
    "            'units_sold_lag1', 'units_sold_lag2', 'units_sold_lag3', 'units_sold_lag4', 'ma_units_sold_3']\n",
    "target = 'units_sold'\n",
    "\n",
    "X = data[features]\n",
    "y = data[target]\n",
    "\n",
    "X = pd.get_dummies(X, columns=['store_id', 'sku_id'])\n",
    "\n",
    "X_train, X_test, y_train, y_test = train_test_split(X, y, test_size=0.2, random_state=42)"
   ]
  },
  {
   "cell_type": "code",
   "execution_count": 5,
   "id": "41a207c8-8da5-4aa0-9768-cae48441f15c",
   "metadata": {},
   "outputs": [
    {
     "name": "stdout",
     "output_type": "stream",
     "text": [
      "Fitting 3 folds for each of 20 candidates, totalling 60 fits\n",
      "[CV] END max_depth=20, min_samples_split=5, n_estimators=142; total time= 7.7min\n",
      "[CV] END max_depth=20, min_samples_split=4, n_estimators=121; total time= 6.1min\n",
      "[CV] END max_depth=20, min_samples_split=4, n_estimators=124; total time= 6.4min\n",
      "[CV] END max_depth=None, min_samples_split=5, n_estimators=73; total time= 4.6min\n",
      "[CV] END max_depth=20, min_samples_split=7, n_estimators=102; total time= 4.8min\n",
      "[CV] END max_depth=10, min_samples_split=3, n_estimators=113; total time= 2.9min\n",
      "[CV] END max_depth=None, min_samples_split=2, n_estimators=125; total time= 7.6min\n",
      "[CV] END max_depth=None, min_samples_split=4, n_estimators=108; total time= 6.2min\n",
      "[CV] END max_depth=20, min_samples_split=7, n_estimators=111; total time= 5.2min\n",
      "[CV] END max_depth=20, min_samples_split=7, n_estimators=111; total time= 4.4min\n",
      "[CV] END max_depth=20, min_samples_split=5, n_estimators=113; total time= 4.5min\n",
      "[CV] END max_depth=None, min_samples_split=4, n_estimators=100; total time= 5.0min\n",
      "[CV] END max_depth=20, min_samples_split=6, n_estimators=122; total time= 4.7min\n",
      "[CV] END .max_depth=10, min_samples_split=3, n_estimators=58; total time= 1.2min\n",
      "[CV] END max_depth=20, min_samples_split=5, n_estimators=142; total time= 7.7min\n",
      "[CV] END max_depth=None, min_samples_split=6, n_estimators=132; total time= 8.2min\n",
      "[CV] END max_depth=20, min_samples_split=4, n_estimators=124; total time= 6.4min\n",
      "[CV] END max_depth=None, min_samples_split=5, n_estimators=73; total time= 4.4min\n",
      "[CV] END .max_depth=10, min_samples_split=9, n_estimators=79; total time= 2.2min\n",
      "[CV] END .max_depth=10, min_samples_split=9, n_estimators=79; total time= 1.9min\n",
      "[CV] END max_depth=None, min_samples_split=2, n_estimators=125; total time= 7.6min\n",
      "[CV] END max_depth=10, min_samples_split=7, n_estimators=138; total time= 3.3min\n",
      "[CV] END max_depth=20, min_samples_split=3, n_estimators=141; total time= 6.6min\n",
      "[CV] END max_depth=20, min_samples_split=7, n_estimators=111; total time= 4.9min\n",
      "[CV] END max_depth=20, min_samples_split=7, n_estimators=100; total time= 4.0min\n",
      "[CV] END max_depth=None, min_samples_split=4, n_estimators=100; total time= 5.0min\n",
      "[CV] END max_depth=20, min_samples_split=6, n_estimators=122; total time= 4.7min\n",
      "[CV] END .max_depth=20, min_samples_split=3, n_estimators=53; total time= 2.1min\n",
      "[CV] END max_depth=None, min_samples_split=5, n_estimators=63; total time= 2.9min\n",
      "Best Parameters: {'max_depth': None, 'min_samples_split': 2, 'n_estimators': 125}\n",
      "Best Score (Negative MAE): -13.357120343179536\n"
     ]
    }
   ],
   "source": [
    "# Model Training - Using a Random Forest Regressor\n",
    "\n",
    "param_dist = {\n",
    "    'n_estimators': randint(50, 150),\n",
    "    'max_depth': [None, 10, 20],\n",
    "    'min_samples_split': randint(2, 10)\n",
    "}\n",
    "\n",
    "\n",
    "# Initializing the model\n",
    "model = RandomForestRegressor(random_state=42)\n",
    "\n",
    "# Performing RandomizedSearchCV\n",
    "random_search = RandomizedSearchCV(estimator=model, param_distributions=param_dist, \n",
    "                                    n_iter=20, cv=3, scoring='neg_mean_absolute_error', \n",
    "                                    n_jobs=-1, verbose=2, random_state=42)\n",
    "\n",
    "random_search.fit(X_train, y_train)\n",
    "\n",
    "print(f'Best Parameters: {random_search.best_params_}')\n",
    "print(f'Best Score (Negative MAE): {random_search.best_score_}')"
   ]
  },
  {
   "cell_type": "code",
   "execution_count": 6,
   "id": "a93e1445-c3d5-4dcb-bdc8-0b350d1dc228",
   "metadata": {},
   "outputs": [
    {
     "name": "stdout",
     "output_type": "stream",
     "text": [
      "[CV] END max_depth=20, min_samples_split=4, n_estimators=121; total time= 6.6min\n",
      "[CV] END max_depth=20, min_samples_split=4, n_estimators=121; total time= 6.2min\n",
      "[CV] END max_depth=None, min_samples_split=6, n_estimators=132; total time= 8.4min\n",
      "[CV] END max_depth=None, min_samples_split=5, n_estimators=73; total time= 4.4min\n",
      "[CV] END max_depth=20, min_samples_split=7, n_estimators=102; total time= 4.7min\n",
      "[CV] END max_depth=10, min_samples_split=3, n_estimators=113; total time= 2.9min\n",
      "[CV] END max_depth=10, min_samples_split=7, n_estimators=138; total time= 3.3min\n",
      "[CV] END max_depth=10, min_samples_split=7, n_estimators=138; total time= 3.4min\n",
      "[CV] END max_depth=None, min_samples_split=4, n_estimators=108; total time= 6.2min\n",
      "[CV] END max_depth=20, min_samples_split=3, n_estimators=141; total time= 6.6min\n",
      "[CV] END max_depth=20, min_samples_split=7, n_estimators=100; total time= 4.0min\n",
      "[CV] END max_depth=20, min_samples_split=5, n_estimators=113; total time= 4.4min\n",
      "[CV] END max_depth=20, min_samples_split=6, n_estimators=122; total time= 4.7min\n",
      "[CV] END .max_depth=20, min_samples_split=3, n_estimators=53; total time= 2.1min\n",
      "[CV] END max_depth=None, min_samples_split=5, n_estimators=63; total time= 3.1min\n",
      "[CV] END .max_depth=10, min_samples_split=3, n_estimators=58; total time=  57.8s\n",
      "[CV] END max_depth=20, min_samples_split=5, n_estimators=142; total time= 7.7min\n",
      "[CV] END max_depth=None, min_samples_split=6, n_estimators=132; total time= 8.3min\n",
      "[CV] END max_depth=20, min_samples_split=4, n_estimators=124; total time= 6.4min\n",
      "[CV] END max_depth=20, min_samples_split=7, n_estimators=102; total time= 4.8min\n",
      "[CV] END .max_depth=10, min_samples_split=9, n_estimators=79; total time= 2.0min\n",
      "[CV] END max_depth=10, min_samples_split=3, n_estimators=113; total time= 2.9min\n",
      "[CV] END max_depth=None, min_samples_split=2, n_estimators=125; total time= 7.6min\n",
      "[CV] END max_depth=None, min_samples_split=4, n_estimators=108; total time= 6.2min\n",
      "[CV] END max_depth=20, min_samples_split=3, n_estimators=141; total time= 6.6min\n",
      "[CV] END max_depth=20, min_samples_split=7, n_estimators=100; total time= 4.0min\n",
      "[CV] END max_depth=20, min_samples_split=5, n_estimators=113; total time= 4.5min\n",
      "[CV] END max_depth=None, min_samples_split=4, n_estimators=100; total time= 5.0min\n",
      "[CV] END .max_depth=20, min_samples_split=3, n_estimators=53; total time= 2.1min\n",
      "[CV] END max_depth=None, min_samples_split=5, n_estimators=63; total time= 3.1min\n",
      "[CV] END .max_depth=10, min_samples_split=3, n_estimators=58; total time=  53.4s\n"
     ]
    },
    {
     "data": {
      "text/html": [
       "<style>#sk-container-id-1 {color: black;background-color: white;}#sk-container-id-1 pre{padding: 0;}#sk-container-id-1 div.sk-toggleable {background-color: white;}#sk-container-id-1 label.sk-toggleable__label {cursor: pointer;display: block;width: 100%;margin-bottom: 0;padding: 0.3em;box-sizing: border-box;text-align: center;}#sk-container-id-1 label.sk-toggleable__label-arrow:before {content: \"▸\";float: left;margin-right: 0.25em;color: #696969;}#sk-container-id-1 label.sk-toggleable__label-arrow:hover:before {color: black;}#sk-container-id-1 div.sk-estimator:hover label.sk-toggleable__label-arrow:before {color: black;}#sk-container-id-1 div.sk-toggleable__content {max-height: 0;max-width: 0;overflow: hidden;text-align: left;background-color: #f0f8ff;}#sk-container-id-1 div.sk-toggleable__content pre {margin: 0.2em;color: black;border-radius: 0.25em;background-color: #f0f8ff;}#sk-container-id-1 input.sk-toggleable__control:checked~div.sk-toggleable__content {max-height: 200px;max-width: 100%;overflow: auto;}#sk-container-id-1 input.sk-toggleable__control:checked~label.sk-toggleable__label-arrow:before {content: \"▾\";}#sk-container-id-1 div.sk-estimator input.sk-toggleable__control:checked~label.sk-toggleable__label {background-color: #d4ebff;}#sk-container-id-1 div.sk-label input.sk-toggleable__control:checked~label.sk-toggleable__label {background-color: #d4ebff;}#sk-container-id-1 input.sk-hidden--visually {border: 0;clip: rect(1px 1px 1px 1px);clip: rect(1px, 1px, 1px, 1px);height: 1px;margin: -1px;overflow: hidden;padding: 0;position: absolute;width: 1px;}#sk-container-id-1 div.sk-estimator {font-family: monospace;background-color: #f0f8ff;border: 1px dotted black;border-radius: 0.25em;box-sizing: border-box;margin-bottom: 0.5em;}#sk-container-id-1 div.sk-estimator:hover {background-color: #d4ebff;}#sk-container-id-1 div.sk-parallel-item::after {content: \"\";width: 100%;border-bottom: 1px solid gray;flex-grow: 1;}#sk-container-id-1 div.sk-label:hover label.sk-toggleable__label {background-color: #d4ebff;}#sk-container-id-1 div.sk-serial::before {content: \"\";position: absolute;border-left: 1px solid gray;box-sizing: border-box;top: 0;bottom: 0;left: 50%;z-index: 0;}#sk-container-id-1 div.sk-serial {display: flex;flex-direction: column;align-items: center;background-color: white;padding-right: 0.2em;padding-left: 0.2em;position: relative;}#sk-container-id-1 div.sk-item {position: relative;z-index: 1;}#sk-container-id-1 div.sk-parallel {display: flex;align-items: stretch;justify-content: center;background-color: white;position: relative;}#sk-container-id-1 div.sk-item::before, #sk-container-id-1 div.sk-parallel-item::before {content: \"\";position: absolute;border-left: 1px solid gray;box-sizing: border-box;top: 0;bottom: 0;left: 50%;z-index: -1;}#sk-container-id-1 div.sk-parallel-item {display: flex;flex-direction: column;z-index: 1;position: relative;background-color: white;}#sk-container-id-1 div.sk-parallel-item:first-child::after {align-self: flex-end;width: 50%;}#sk-container-id-1 div.sk-parallel-item:last-child::after {align-self: flex-start;width: 50%;}#sk-container-id-1 div.sk-parallel-item:only-child::after {width: 0;}#sk-container-id-1 div.sk-dashed-wrapped {border: 1px dashed gray;margin: 0 0.4em 0.5em 0.4em;box-sizing: border-box;padding-bottom: 0.4em;background-color: white;}#sk-container-id-1 div.sk-label label {font-family: monospace;font-weight: bold;display: inline-block;line-height: 1.2em;}#sk-container-id-1 div.sk-label-container {text-align: center;}#sk-container-id-1 div.sk-container {/* jupyter's `normalize.less` sets `[hidden] { display: none; }` but bootstrap.min.css set `[hidden] { display: none !important; }` so we also need the `!important` here to be able to override the default hidden behavior on the sphinx rendered scikit-learn.org. See: https://github.com/scikit-learn/scikit-learn/issues/21755 */display: inline-block !important;position: relative;}#sk-container-id-1 div.sk-text-repr-fallback {display: none;}</style><div id=\"sk-container-id-1\" class=\"sk-top-container\"><div class=\"sk-text-repr-fallback\"><pre>RandomForestRegressor(n_estimators=125, random_state=42)</pre><b>In a Jupyter environment, please rerun this cell to show the HTML representation or trust the notebook. <br />On GitHub, the HTML representation is unable to render, please try loading this page with nbviewer.org.</b></div><div class=\"sk-container\" hidden><div class=\"sk-item\"><div class=\"sk-estimator sk-toggleable\"><input class=\"sk-toggleable__control sk-hidden--visually\" id=\"sk-estimator-id-1\" type=\"checkbox\" checked><label for=\"sk-estimator-id-1\" class=\"sk-toggleable__label sk-toggleable__label-arrow\">RandomForestRegressor</label><div class=\"sk-toggleable__content\"><pre>RandomForestRegressor(n_estimators=125, random_state=42)</pre></div></div></div></div></div>"
      ],
      "text/plain": [
       "RandomForestRegressor(n_estimators=125, random_state=42)"
      ]
     },
     "execution_count": 6,
     "metadata": {},
     "output_type": "execute_result"
    }
   ],
   "source": [
    "# Training the best model\n",
    "best_model = random_search.best_estimator_\n",
    "\n",
    "best_model.fit(X_train, y_train)"
   ]
  },
  {
   "cell_type": "code",
   "execution_count": 12,
   "id": "f2f65cd4-81c6-4be0-b6f5-9649cf99ec85",
   "metadata": {},
   "outputs": [
    {
     "name": "stdout",
     "output_type": "stream",
     "text": [
      "Final Model MAE: 12.908430976430974\n"
     ]
    }
   ],
   "source": [
    "# Evaluation\n",
    "y_pred = best_model.predict(X_test)\n",
    "\n",
    "mae = mean_absolute_error(y_test, y_pred)\n",
    "print(f'Final Model MAE: {mae}')"
   ]
  },
  {
   "cell_type": "code",
   "execution_count": 13,
   "id": "7be49573-bcf9-4deb-a2aa-938ea7d4a351",
   "metadata": {},
   "outputs": [
    {
     "name": "stdout",
     "output_type": "stream",
     "text": [
      "   predicted_units_sold  actual_units_sold\n",
      "0                36.712                 33\n",
      "1                62.152                 52\n",
      "2                11.032                 16\n",
      "3                28.712                 43\n",
      "4                33.152                 26\n"
     ]
    }
   ],
   "source": [
    "# Comparing predictions with actual values\n",
    "comparison_df = pd.DataFrame({\n",
    "    'predicted_units_sold': y_pred,\n",
    "    'actual_units_sold': y_test.reset_index(drop=True)  # Reset index to align with predictions\n",
    "})\n",
    "\n",
    "print(comparison_df.head())"
   ]
  },
  {
   "cell_type": "code",
   "execution_count": null,
   "id": "d3684fc2-c053-4fe3-919d-f0aeb03cf83a",
   "metadata": {},
   "outputs": [],
   "source": []
  }
 ],
 "metadata": {
  "kernelspec": {
   "display_name": "Python 3 (ipykernel)",
   "language": "python",
   "name": "python3"
  },
  "language_info": {
   "codemirror_mode": {
    "name": "ipython",
    "version": 3
   },
   "file_extension": ".py",
   "mimetype": "text/x-python",
   "name": "python",
   "nbconvert_exporter": "python",
   "pygments_lexer": "ipython3",
   "version": "3.11.7"
  }
 },
 "nbformat": 4,
 "nbformat_minor": 5
}
